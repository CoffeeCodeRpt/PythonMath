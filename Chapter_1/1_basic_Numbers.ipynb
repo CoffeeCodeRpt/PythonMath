{
 "cells": [
  {
   "cell_type": "markdown",
   "metadata": {},
   "source": [
    "# Chapter 1: Working with basic numbers\n",
    "\n",
    "## Basic math operations"
   ]
  },
  {
   "cell_type": "code",
   "execution_count": null,
   "metadata": {},
   "outputs": [],
   "source": [
    "# Addition '+'\n",
    "print(1 + 2)\n",
    "\n",
    "# Subtraction '-'\n",
    "print(100 - 45)\n",
    "\n",
    "# Multiplication '*'\n",
    "print(30 * 3)\n",
    "\n",
    "# Division '/'\n",
    "print(100 / 50)"
   ]
  },
  {
   "cell_type": "markdown",
   "metadata": {},
   "source": [
    "## More complex operations"
   ]
  },
  {
   "cell_type": "code",
   "execution_count": null,
   "metadata": {},
   "outputs": [],
   "source": [
    "# Divide to a round number '//'\n",
    "print(5 // 2.5)\n",
    "\n",
    "# Get the remander of a division '%'\n",
    "print(5 % 2)\n",
    "\n",
    "# Exponential operator '**'\n",
    "print(2 ** 6)"
   ]
  },
  {
   "cell_type": "markdown",
   "metadata": {},
   "source": [
    "## The order of operations\n",
    "\n",
    "Python and most, if not all, programming languages follow the order of operations. Equations are evaluated and run in this order.\n",
    "\n",
    "### PEMDAS\n",
    "\n",
    "- Parenthesis\n",
    "- Exponents\n",
    "- Multiplication\n",
    "- Division\n",
    "- Addition\n",
    "- Subtraction"
   ]
  },
  {
   "cell_type": "markdown",
   "metadata": {},
   "source": [
    "## Working with fractions\n",
    "\n",
    "To work with fractions, you need to import the class `Fraction` from the module **fractions**"
   ]
  },
  {
   "cell_type": "code",
   "execution_count": null,
   "metadata": {},
   "outputs": [],
   "source": [
    "# Import the Fraction class\n",
    "from fractions import Fraction\n",
    "\n",
    "f = Fraction(3, 4)\n",
    "f"
   ]
  },
  {
   "cell_type": "markdown",
   "metadata": {},
   "source": [
    "The output of the cell above looks a little weird. Without any additional math it looks like this: `Fraction(3, 4)`. While it looks like a string of the original function, it's actually a fraction object and can be used as on for other math. \n",
    "\n",
    "When a floating point number is used with a fraction object, a floating point number is output. However, if only fractions are used a fraction is output"
   ]
  },
  {
   "cell_type": "code",
   "execution_count": null,
   "metadata": {},
   "outputs": [],
   "source": [
    "from fractions import Fraction\n",
    "fl = Fraction(3, 4) + 1 + 1.5\n",
    "print(fl)\n",
    "\n",
    "Fraction(3, 4) + 1 + Fraction(1, 4)"
   ]
  }
 ],
 "metadata": {
  "interpreter": {
   "hash": "aee8b7b246df8f9039afb4144a1f6fd8d2ca17a180786b69acc140d282b71a49"
  },
  "kernelspec": {
   "display_name": "Python 3.9.6 64-bit",
   "name": "python3"
  },
  "language_info": {
   "codemirror_mode": {
    "name": "ipython",
    "version": 3
   },
   "file_extension": ".py",
   "mimetype": "text/x-python",
   "name": "python",
   "nbconvert_exporter": "python",
   "pygments_lexer": "ipython3",
   "version": "3.9.6"
  },
  "orig_nbformat": 4
 },
 "nbformat": 4,
 "nbformat_minor": 2
}
