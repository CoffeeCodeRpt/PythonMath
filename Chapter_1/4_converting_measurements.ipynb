{
 "cells": [
  {
   "cell_type": "markdown",
   "metadata": {},
   "source": [
    "# Converting Units of Measurement\n",
    "\n",
    "In this section we will use Python to convert different units of measurement.\n",
    "\n",
    "## Inches to meters\n",
    "\n",
    "An inch is equal to 2.54 centimeters and a meter is 100 centimeters. So, we can multiply the amount of inches by 2.54 and then divide by 100 to tell us how many meters. \n",
    "\n",
    "## Miles to kilometers\n",
    "\n",
    "A mile is roughly equal to 1.609 kilometers so you can just multiply the amount of miles by 1.069."
   ]
  },
  {
   "cell_type": "code",
   "execution_count": null,
   "metadata": {},
   "outputs": [],
   "source": [
    "# Inches to meters.\n",
    "inches = input('Inches to convert to meters: ')\n",
    "inches = int(inches)\n",
    "print(f'{inches} is equal to {(inches * 2.54) / 100} meters')\n",
    "\n",
    "# Miles to kilometers.\n",
    "miles = input('Amount of miles to convert: ')\n",
    "miles = int(miles)\n",
    "print(f'{miles} miles is equal to {miles * 1.609} kilometers')"
   ]
  },
  {
   "cell_type": "markdown",
   "metadata": {},
   "source": [
    "## Converting Temperatures\n",
    "\n",
    "The follwing is the formula to convert fahrenheit to celsius. We will take the average human temerature, 98.6 fahrenheit, to celsius."
   ]
  },
  {
   "cell_type": "code",
   "execution_count": null,
   "metadata": {},
   "outputs": [],
   "source": [
    "F = 98.6\n",
    "C = (F - 32) * (5 / 9)\n",
    "\n",
    "print(f'{F} degrees fahrenheit is {C} degrees celsius')"
   ]
  },
  {
   "cell_type": "markdown",
   "metadata": {},
   "source": [
    "And the following calculates human temperature from celsius to fahrenheit."
   ]
  },
  {
   "cell_type": "code",
   "execution_count": null,
   "metadata": {},
   "outputs": [],
   "source": [
    "C = 37\n",
    "F = C * (9 / 5) + 32\n",
    "\n",
    "print(f'{C} degrees celsius is {F} degrees fahrenheit.')"
   ]
  },
  {
   "cell_type": "markdown",
   "metadata": {},
   "source": [
    "## Create a program to convert measurements. \n",
    "\n",
    "In the following example, we will create a program where the user can choose to convert fromo miles to kilometers or kilometers to miles. "
   ]
  },
  {
   "cell_type": "code",
   "execution_count": 9,
   "metadata": {},
   "outputs": [
    {
     "name": "stdout",
     "output_type": "stream",
     "text": [
      "1. Kilometers to Miles\n",
      "2. Miles to Kilometers\n",
      "Distance in miles: 6.215040397762586\n"
     ]
    }
   ],
   "source": [
    "def print_menu():\n",
    "    print('1. Kilometers to Miles')\n",
    "    print('2. Miles to Kilometers')\n",
    "\n",
    "def km_miles():\n",
    "    km = float(input('Enter distance in kilometers: '))\n",
    "    miles = km / 1.609\n",
    "    print(f'Distance in miles: {miles}')\n",
    "\n",
    "def miles_km():\n",
    "    miles = float(input('Enter distance in miles: '))\n",
    "    km = miles * 1.609\n",
    "    print(f'Distance in kilometers: {km}')\n",
    "\n",
    "if __name__ == '__main__':\n",
    "    print_menu()\n",
    "    choice = input('Which conversion would you like to do?: ')\n",
    "    \n",
    "    if choice == '1':\n",
    "        km_miles()\n",
    "\n",
    "    if choice == '2':\n",
    "        miles_km()"
   ]
  },
  {
   "cell_type": "markdown",
   "metadata": {},
   "source": [
    "The code for this program is fairly simple. The user is asked which conversion they would like to do and then the amount for the conversion. "
   ]
  }
 ],
 "metadata": {
  "interpreter": {
   "hash": "aee8b7b246df8f9039afb4144a1f6fd8d2ca17a180786b69acc140d282b71a49"
  },
  "kernelspec": {
   "display_name": "Python 3.9.6 64-bit",
   "name": "python3"
  },
  "language_info": {
   "codemirror_mode": {
    "name": "ipython",
    "version": 3
   },
   "file_extension": ".py",
   "mimetype": "text/x-python",
   "name": "python",
   "nbconvert_exporter": "python",
   "pygments_lexer": "ipython3",
   "version": "3.9.6"
  },
  "orig_nbformat": 4
 },
 "nbformat": 4,
 "nbformat_minor": 2
}
