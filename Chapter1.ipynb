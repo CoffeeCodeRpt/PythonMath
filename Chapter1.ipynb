{
 "cells": [
  {
   "cell_type": "markdown",
   "metadata": {},
   "source": [
    "# Chapter 1: Working with numbers\n",
    "\n",
    "## Basic math operations"
   ]
  },
  {
   "cell_type": "code",
   "execution_count": null,
   "metadata": {},
   "outputs": [],
   "source": [
    "# Addition '+'\n",
    "1 + 2\n",
    "\n",
    "# Subtraction '-'\n",
    "100 - 45\n",
    "\n",
    "# Multiplication '*'\n",
    "30 * 3\n",
    "\n",
    "# Division '/'\n",
    "100 / 50"
   ]
  },
  {
   "cell_type": "markdown",
   "metadata": {},
   "source": [
    "## More complex operations"
   ]
  },
  {
   "cell_type": "code",
   "execution_count": null,
   "metadata": {},
   "outputs": [],
   "source": [
    "# Divide to a round number '//'\n",
    "5 // 2.5\n",
    "\n",
    "# Get the remander of a division '%'\n",
    "5 % 2\n",
    "\n",
    "# Exponential operator '**'\n",
    "2 ** 2"
   ]
  },
  {
   "cell_type": "markdown",
   "metadata": {},
   "source": [
    "## The order of operations\n",
    "\n",
    "Python and most, if not all, programming languages follow the order of operations. Equations are evaluated and run in this order.\n",
    "\n",
    "### PEMDAS\n",
    "\n",
    "- Parenthesis\n",
    "- Exponents\n",
    "- Multiplication\n",
    "- Division\n",
    "- Addition\n",
    "- Subtraction"
   ]
  }
 ],
 "metadata": {
  "interpreter": {
   "hash": "aee8b7b246df8f9039afb4144a1f6fd8d2ca17a180786b69acc140d282b71a49"
  },
  "kernelspec": {
   "display_name": "Python 3.9.6 64-bit",
   "name": "python3"
  },
  "language_info": {
   "codemirror_mode": {
    "name": "ipython",
    "version": 3
   },
   "file_extension": ".py",
   "mimetype": "text/x-python",
   "name": "python",
   "nbconvert_exporter": "python",
   "pygments_lexer": "ipython3",
   "version": "3.9.6"
  },
  "orig_nbformat": 4
 },
 "nbformat": 4,
 "nbformat_minor": 2
}
